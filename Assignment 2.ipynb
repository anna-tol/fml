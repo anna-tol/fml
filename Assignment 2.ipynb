{
 "cells": [
  {
   "cell_type": "markdown",
   "metadata": {},
   "source": [
    "# Assignment 2"
   ]
  },
  {
   "cell_type": "markdown",
   "metadata": {},
   "source": [
    "Fundamentals of Machine Learning <br>\n",
    "Master Data-Driven Design <br>\n",
    "University of Applied Science Utrecht"
   ]
  },
  {
   "cell_type": "code",
   "execution_count": 1,
   "metadata": {},
   "outputs": [],
   "source": [
    "# importing stuff\n",
    "import pandas as pd\n",
    "import datetime\n",
    "from scipy.stats import ttest_ind\n",
    "import matplotlib.pyplot as plt\n",
    "%matplotlib inline"
   ]
  },
  {
   "cell_type": "markdown",
   "metadata": {},
   "source": [
    "### Preparing the data for analysis"
   ]
  },
  {
   "cell_type": "code",
   "execution_count": 2,
   "metadata": {},
   "outputs": [],
   "source": [
    "# open de dataframes with the right seperators\n",
    "step_data = pd.read_csv('Assignment 1 - steps data.csv', sep=';')\n",
    "survey_data = pd.read_csv('Assignment 1 - survey data.csv')"
   ]
  },
  {
   "cell_type": "code",
   "execution_count": 3,
   "metadata": {},
   "outputs": [
    {
     "data": {
      "text/html": [
       "<div>\n",
       "<style scoped>\n",
       "    .dataframe tbody tr th:only-of-type {\n",
       "        vertical-align: middle;\n",
       "    }\n",
       "\n",
       "    .dataframe tbody tr th {\n",
       "        vertical-align: top;\n",
       "    }\n",
       "\n",
       "    .dataframe thead th {\n",
       "        text-align: right;\n",
       "    }\n",
       "</style>\n",
       "<table border=\"1\" class=\"dataframe\">\n",
       "  <thead>\n",
       "    <tr style=\"text-align: right;\">\n",
       "      <th></th>\n",
       "      <th>id</th>\n",
       "      <th>city</th>\n",
       "      <th>gender</th>\n",
       "      <th>age</th>\n",
       "      <th>hh_size</th>\n",
       "      <th>hh_type</th>\n",
       "      <th>education</th>\n",
       "      <th>height</th>\n",
       "      <th>weight</th>\n",
       "      <th>waist</th>\n",
       "      <th>...</th>\n",
       "      <th>5-5-2014</th>\n",
       "      <th>6-5-2014</th>\n",
       "      <th>7-5-2014</th>\n",
       "      <th>8-5-2014</th>\n",
       "      <th>9-5-2014</th>\n",
       "      <th>10-5-2014</th>\n",
       "      <th>11-5-2014</th>\n",
       "      <th>12-5-2014</th>\n",
       "      <th>13-5-2014</th>\n",
       "      <th>mean_steps</th>\n",
       "    </tr>\n",
       "  </thead>\n",
       "  <tbody>\n",
       "    <tr>\n",
       "      <th>0</th>\n",
       "      <td>1</td>\n",
       "      <td>Montpellier</td>\n",
       "      <td>male</td>\n",
       "      <td>25-34</td>\n",
       "      <td>2</td>\n",
       "      <td>couple</td>\n",
       "      <td>master or doctorate</td>\n",
       "      <td>183.0</td>\n",
       "      <td>62.0</td>\n",
       "      <td>78.0</td>\n",
       "      <td>...</td>\n",
       "      <td>NaN</td>\n",
       "      <td>NaN</td>\n",
       "      <td>NaN</td>\n",
       "      <td>NaN</td>\n",
       "      <td>NaN</td>\n",
       "      <td>NaN</td>\n",
       "      <td>NaN</td>\n",
       "      <td>NaN</td>\n",
       "      <td>NaN</td>\n",
       "      <td>6757.911765</td>\n",
       "    </tr>\n",
       "    <tr>\n",
       "      <th>1</th>\n",
       "      <td>2</td>\n",
       "      <td>Montpellier</td>\n",
       "      <td>female</td>\n",
       "      <td>25-34</td>\n",
       "      <td>2</td>\n",
       "      <td>couple</td>\n",
       "      <td>high school</td>\n",
       "      <td>163.0</td>\n",
       "      <td>60.0</td>\n",
       "      <td>75.0</td>\n",
       "      <td>...</td>\n",
       "      <td>NaN</td>\n",
       "      <td>NaN</td>\n",
       "      <td>NaN</td>\n",
       "      <td>NaN</td>\n",
       "      <td>NaN</td>\n",
       "      <td>NaN</td>\n",
       "      <td>NaN</td>\n",
       "      <td>NaN</td>\n",
       "      <td>NaN</td>\n",
       "      <td>3403.964706</td>\n",
       "    </tr>\n",
       "    <tr>\n",
       "      <th>2</th>\n",
       "      <td>3</td>\n",
       "      <td>Lyon</td>\n",
       "      <td>female</td>\n",
       "      <td>25-34</td>\n",
       "      <td>2</td>\n",
       "      <td>couple</td>\n",
       "      <td>master or doctorate</td>\n",
       "      <td>172.0</td>\n",
       "      <td>65.0</td>\n",
       "      <td>60.0</td>\n",
       "      <td>...</td>\n",
       "      <td>NaN</td>\n",
       "      <td>NaN</td>\n",
       "      <td>NaN</td>\n",
       "      <td>NaN</td>\n",
       "      <td>NaN</td>\n",
       "      <td>NaN</td>\n",
       "      <td>NaN</td>\n",
       "      <td>NaN</td>\n",
       "      <td>NaN</td>\n",
       "      <td>4986.550505</td>\n",
       "    </tr>\n",
       "    <tr>\n",
       "      <th>3</th>\n",
       "      <td>4</td>\n",
       "      <td>Lyon</td>\n",
       "      <td>male</td>\n",
       "      <td>25-34</td>\n",
       "      <td>3</td>\n",
       "      <td>single parent</td>\n",
       "      <td>bachelor</td>\n",
       "      <td>182.0</td>\n",
       "      <td>85.0</td>\n",
       "      <td>95.0</td>\n",
       "      <td>...</td>\n",
       "      <td>NaN</td>\n",
       "      <td>NaN</td>\n",
       "      <td>NaN</td>\n",
       "      <td>NaN</td>\n",
       "      <td>NaN</td>\n",
       "      <td>NaN</td>\n",
       "      <td>NaN</td>\n",
       "      <td>NaN</td>\n",
       "      <td>NaN</td>\n",
       "      <td>6264.478261</td>\n",
       "    </tr>\n",
       "    <tr>\n",
       "      <th>4</th>\n",
       "      <td>5</td>\n",
       "      <td>Bordeaux</td>\n",
       "      <td>male</td>\n",
       "      <td>25-34</td>\n",
       "      <td>2</td>\n",
       "      <td>couple</td>\n",
       "      <td>master or doctorate</td>\n",
       "      <td>177.0</td>\n",
       "      <td>70.0</td>\n",
       "      <td>81.0</td>\n",
       "      <td>...</td>\n",
       "      <td>NaN</td>\n",
       "      <td>NaN</td>\n",
       "      <td>NaN</td>\n",
       "      <td>NaN</td>\n",
       "      <td>NaN</td>\n",
       "      <td>NaN</td>\n",
       "      <td>NaN</td>\n",
       "      <td>NaN</td>\n",
       "      <td>NaN</td>\n",
       "      <td>5516.014493</td>\n",
       "    </tr>\n",
       "  </tbody>\n",
       "</table>\n",
       "<p>5 rows × 339 columns</p>\n",
       "</div>"
      ],
      "text/plain": [
       "   id         city  gender    age  hh_size        hh_type  \\\n",
       "0   1  Montpellier    male  25-34        2         couple   \n",
       "1   2  Montpellier  female  25-34        2         couple   \n",
       "2   3         Lyon  female  25-34        2         couple   \n",
       "3   4         Lyon    male  25-34        3  single parent   \n",
       "4   5     Bordeaux    male  25-34        2         couple   \n",
       "\n",
       "             education  height  weight  waist  ...  5-5-2014  6-5-2014  \\\n",
       "0  master or doctorate   183.0    62.0   78.0  ...       NaN       NaN   \n",
       "1          high school   163.0    60.0   75.0  ...       NaN       NaN   \n",
       "2  master or doctorate   172.0    65.0   60.0  ...       NaN       NaN   \n",
       "3             bachelor   182.0    85.0   95.0  ...       NaN       NaN   \n",
       "4  master or doctorate   177.0    70.0   81.0  ...       NaN       NaN   \n",
       "\n",
       "   7-5-2014  8-5-2014  9-5-2014  10-5-2014  11-5-2014  12-5-2014  13-5-2014  \\\n",
       "0       NaN       NaN       NaN        NaN        NaN        NaN        NaN   \n",
       "1       NaN       NaN       NaN        NaN        NaN        NaN        NaN   \n",
       "2       NaN       NaN       NaN        NaN        NaN        NaN        NaN   \n",
       "3       NaN       NaN       NaN        NaN        NaN        NaN        NaN   \n",
       "4       NaN       NaN       NaN        NaN        NaN        NaN        NaN   \n",
       "\n",
       "    mean_steps  \n",
       "0  6757.911765  \n",
       "1  3403.964706  \n",
       "2  4986.550505  \n",
       "3  6264.478261  \n",
       "4  5516.014493  \n",
       "\n",
       "[5 rows x 339 columns]"
      ]
     },
     "execution_count": 3,
     "metadata": {},
     "output_type": "execute_result"
    }
   ],
   "source": [
    "# merge the two dataframes, add mean steps column and show the head of the dataframe\n",
    "data = survey_data.merge(step_data, on = 'id')\n",
    "step_columns = data.loc[: , '20-6-2013':'13-5-2014']\n",
    "data['mean_steps'] = step_columns.mean(axis=1)\n",
    "data.head(5)"
   ]
  },
  {
   "cell_type": "markdown",
   "metadata": {},
   "source": [
    "### The relation of mean steps per participant with at least 2 other quantitative variables"
   ]
  },
  {
   "cell_type": "code",
   "execution_count": 4,
   "metadata": {},
   "outputs": [
    {
     "data": {
      "text/html": [
       "<div>\n",
       "<style scoped>\n",
       "    .dataframe tbody tr th:only-of-type {\n",
       "        vertical-align: middle;\n",
       "    }\n",
       "\n",
       "    .dataframe tbody tr th {\n",
       "        vertical-align: top;\n",
       "    }\n",
       "\n",
       "    .dataframe thead th {\n",
       "        text-align: right;\n",
       "    }\n",
       "</style>\n",
       "<table border=\"1\" class=\"dataframe\">\n",
       "  <thead>\n",
       "    <tr style=\"text-align: right;\">\n",
       "      <th></th>\n",
       "      <th>height</th>\n",
       "      <th>weight</th>\n",
       "      <th>mean_steps</th>\n",
       "    </tr>\n",
       "  </thead>\n",
       "  <tbody>\n",
       "    <tr>\n",
       "      <th>height</th>\n",
       "      <td>1.000000</td>\n",
       "      <td>0.566777</td>\n",
       "      <td>-0.093685</td>\n",
       "    </tr>\n",
       "    <tr>\n",
       "      <th>weight</th>\n",
       "      <td>0.566777</td>\n",
       "      <td>1.000000</td>\n",
       "      <td>-0.169415</td>\n",
       "    </tr>\n",
       "    <tr>\n",
       "      <th>mean_steps</th>\n",
       "      <td>-0.093685</td>\n",
       "      <td>-0.169415</td>\n",
       "      <td>1.000000</td>\n",
       "    </tr>\n",
       "  </tbody>\n",
       "</table>\n",
       "</div>"
      ],
      "text/plain": [
       "              height    weight  mean_steps\n",
       "height      1.000000  0.566777   -0.093685\n",
       "weight      0.566777  1.000000   -0.169415\n",
       "mean_steps -0.093685 -0.169415    1.000000"
      ]
     },
     "execution_count": 4,
     "metadata": {},
     "output_type": "execute_result"
    }
   ],
   "source": [
    "# make subset with three quantitative variables and show correlation matrix\n",
    "data_subset = data[['height', 'weight', 'mean_steps']]\n",
    "data_subset.corr(method='pearson')"
   ]
  },
  {
   "cell_type": "markdown",
   "metadata": {},
   "source": [
    "#### Mean steps and height"
   ]
  },
  {
   "cell_type": "code",
   "execution_count": 5,
   "metadata": {},
   "outputs": [
    {
     "data": {
      "text/plain": [
       "<matplotlib.axes._subplots.AxesSubplot at 0x1a1df44470>"
      ]
     },
     "execution_count": 5,
     "metadata": {},
     "output_type": "execute_result"
    },
    {
     "data": {
      "image/png": "[encoded data removed]",
      "text/plain": [
       "<Figure size 1080x360 with 1 Axes>"
      ]
     },
     "metadata": {
      "needs_background": "light"
     },
     "output_type": "display_data"
    }
   ],
   "source": [
    "data_subset.plot.scatter(x='mean_steps', y='height', title = 'correlation between mean steps and height', figsize=(15, 5))"
   ]
  },
  {
   "cell_type": "code",
   "execution_count": 6,
   "metadata": {},
   "outputs": [
    {
     "data": {
      "text/html": [
       "<div>\n",
       "<style scoped>\n",
       "    .dataframe tbody tr th:only-of-type {\n",
       "        vertical-align: middle;\n",
       "    }\n",
       "\n",
       "    .dataframe tbody tr th {\n",
       "        vertical-align: top;\n",
       "    }\n",
       "\n",
       "    .dataframe thead th {\n",
       "        text-align: right;\n",
       "    }\n",
       "</style>\n",
       "<table border=\"1\" class=\"dataframe\">\n",
       "  <thead>\n",
       "    <tr style=\"text-align: right;\">\n",
       "      <th></th>\n",
       "      <th>mean_steps</th>\n",
       "      <th>height</th>\n",
       "    </tr>\n",
       "  </thead>\n",
       "  <tbody>\n",
       "    <tr>\n",
       "      <th>mean_steps</th>\n",
       "      <td>1.000000</td>\n",
       "      <td>-0.093685</td>\n",
       "    </tr>\n",
       "    <tr>\n",
       "      <th>height</th>\n",
       "      <td>-0.093685</td>\n",
       "      <td>1.000000</td>\n",
       "    </tr>\n",
       "  </tbody>\n",
       "</table>\n",
       "</div>"
      ],
      "text/plain": [
       "            mean_steps    height\n",
       "mean_steps    1.000000 -0.093685\n",
       "height       -0.093685  1.000000"
      ]
     },
     "execution_count": 6,
     "metadata": {},
     "output_type": "execute_result"
    }
   ],
   "source": [
    "data_subset[['mean_steps', 'height']].corr(method='pearson')"
   ]
  },
  {
   "cell_type": "markdown",
   "metadata": {},
   "source": [
    "-0.093685 is fairly close to zero, so we can assume that there is no correlation between the average amount of steps a person takes a day and their height. As you can see in the scatterplot, there is a cloud of datapoints but they are not even close to being on a linear line."
   ]
  },
  {
   "cell_type": "markdown",
   "metadata": {},
   "source": [
    "#### Mean steps and weight"
   ]
  },
  {
   "cell_type": "code",
   "execution_count": 7,
   "metadata": {},
   "outputs": [
    {
     "data": {
      "text/plain": [
       "<matplotlib.axes._subplots.AxesSubplot at 0x1a1f507908>"
      ]
     },
     "execution_count": 7,
     "metadata": {},
     "output_type": "execute_result"
    },
    {
     "data": {
      "image/png": "[encoded data removed]",
      "text/plain": [
       "<Figure size 1080x360 with 1 Axes>"
      ]
     },
     "metadata": {
      "needs_background": "light"
     },
     "output_type": "display_data"
    }
   ],
   "source": [
    "data_subset.plot.scatter(x='mean_steps', y='weight', title = 'correlation between mean steps and weight', figsize=(15, 5))"
   ]
  },
  {
   "cell_type": "code",
   "execution_count": 8,
   "metadata": {},
   "outputs": [
    {
     "data": {
      "text/html": [
       "<div>\n",
       "<style scoped>\n",
       "    .dataframe tbody tr th:only-of-type {\n",
       "        vertical-align: middle;\n",
       "    }\n",
       "\n",
       "    .dataframe tbody tr th {\n",
       "        vertical-align: top;\n",
       "    }\n",
       "\n",
       "    .dataframe thead th {\n",
       "        text-align: right;\n",
       "    }\n",
       "</style>\n",
       "<table border=\"1\" class=\"dataframe\">\n",
       "  <thead>\n",
       "    <tr style=\"text-align: right;\">\n",
       "      <th></th>\n",
       "      <th>mean_steps</th>\n",
       "      <th>weight</th>\n",
       "    </tr>\n",
       "  </thead>\n",
       "  <tbody>\n",
       "    <tr>\n",
       "      <th>mean_steps</th>\n",
       "      <td>1.000000</td>\n",
       "      <td>-0.169415</td>\n",
       "    </tr>\n",
       "    <tr>\n",
       "      <th>weight</th>\n",
       "      <td>-0.169415</td>\n",
       "      <td>1.000000</td>\n",
       "    </tr>\n",
       "  </tbody>\n",
       "</table>\n",
       "</div>"
      ],
      "text/plain": [
       "            mean_steps    weight\n",
       "mean_steps    1.000000 -0.169415\n",
       "weight       -0.169415  1.000000"
      ]
     },
     "execution_count": 8,
     "metadata": {},
     "output_type": "execute_result"
    }
   ],
   "source": [
    "data_subset[['mean_steps', 'weight']].corr(method='pearson')"
   ]
  },
  {
   "cell_type": "markdown",
   "metadata": {},
   "source": [
    "The pearson correlation of mean steps and weight (-0.169415) is higher than the one of mean steps and height, but it is still way too low. We can assume that there is no correlation between the average amount of steps a person takes a day and their weight. As you can see in the scatterplot, there is a cloud of datapoints but they are not even close to being on a linear line."
   ]
  },
  {
   "cell_type": "markdown",
   "metadata": {},
   "source": [
    "### The relation of mean steps per participant with a qualitative variable with two levels"
   ]
  },
  {
   "cell_type": "markdown",
   "metadata": {},
   "source": [
    "#### Mean steps and living alone"
   ]
  },
  {
   "cell_type": "code",
   "execution_count": 9,
   "metadata": {},
   "outputs": [
    {
     "name": "stderr",
     "output_type": "stream",
     "text": [
      "/Users/annatol/anaconda3/lib/python3.7/site-packages/pandas/core/generic.py:6586: SettingWithCopyWarning: \n",
      "A value is trying to be set on a copy of a slice from a DataFrame\n",
      "\n",
      "See the caveats in the documentation: http://pandas.pydata.org/pandas-docs/stable/indexing.html#indexing-view-versus-copy\n",
      "  self._update_inplace(new_data)\n",
      "/Users/annatol/anaconda3/lib/python3.7/site-packages/pandas/core/frame.py:4025: SettingWithCopyWarning: \n",
      "A value is trying to be set on a copy of a slice from a DataFrame\n",
      "\n",
      "See the caveats in the documentation: http://pandas.pydata.org/pandas-docs/stable/indexing.html#indexing-view-versus-copy\n",
      "  return super(DataFrame, self).rename(**kwargs)\n"
     ]
    }
   ],
   "source": [
    "# change the variabele household size (integer) into living alone (true (1) or false (>1))\n",
    "data_subset2 = data[['hh_size', 'mean_steps']]\n",
    "data_subset2['hh_size'].values[data_subset2['hh_size'].values >= 2] = 2\n",
    "data_subset2.hh_size.replace([1, 2], [True, False], inplace=True)\n",
    "data_subset2.rename(columns={'hh_size':'living alone'}, inplace=True)\n",
    "\n",
    "# the warning wasn't there the first time I ran this code, but even with: it still works"
   ]
  },
  {
   "cell_type": "code",
   "execution_count": 10,
   "metadata": {},
   "outputs": [
    {
     "data": {
      "text/plain": [
       "<matplotlib.axes._subplots.AxesSubplot at 0x1a1f5b37f0>"
      ]
     },
     "execution_count": 10,
     "metadata": {},
     "output_type": "execute_result"
    },
    {
     "data": {
      "image/png": "[encoded data removed]",
      "text/plain": [
       "<Figure size 720x360 with 1 Axes>"
      ]
     },
     "metadata": {
      "needs_background": "light"
     },
     "output_type": "display_data"
    }
   ],
   "source": [
    "# take the means and plot the differences between living alone or not\n",
    "data_subset3 = data_subset2.groupby('living alone').mean()\n",
    "data_subset3['living alone'] = data_subset3.index\n",
    "data_subset3.sort_values(by=['mean_steps']).plot.bar(x='living alone', y='mean_steps', title = 'mean steps per day of people living alone versus those who do not', figsize=(10, 5))"
   ]
  },
  {
   "cell_type": "code",
   "execution_count": 11,
   "metadata": {},
   "outputs": [
    {
     "data": {
      "text/plain": [
       "Ttest_indResult(statistic=-1.1450490090089074, pvalue=0.2525746882336011)"
      ]
     },
     "execution_count": 11,
     "metadata": {},
     "output_type": "execute_result"
    }
   ],
   "source": [
    "# drop null values\n",
    "data_subset2 = data_subset2.dropna()\n",
    "# get two groups to compare with t-test\n",
    "group1 = data_subset2[data_subset2['living alone'] == True]\n",
    "group2 = data_subset2[data_subset2['living alone'] == False]\n",
    "# execute t-test\n",
    "ttest_ind(group1['mean_steps'], group2['mean_steps'])"
   ]
  },
  {
   "cell_type": "markdown",
   "metadata": {},
   "source": [
    "Since the p-value is higher than 0.05, we cannot assume that there is a significant difference between the two groups. This means that whether you live alone or not has no correlation with the amount of steps you take on a day."
   ]
  },
  {
   "cell_type": "markdown",
   "metadata": {},
   "source": [
    "#### Mean steps and weekday"
   ]
  },
  {
   "cell_type": "code",
   "execution_count": 12,
   "metadata": {},
   "outputs": [],
   "source": [
    "# function that returns the day of the week for a date\n",
    "def weekend(date):\n",
    "    day, month, year = (int(x) for x in date.split('-'))    \n",
    "    weekday = datetime.date(year, month, day).strftime(\"%A\")\n",
    "    if weekday == 'Sunday' or weekday == 'Saturday':\n",
    "        return True\n",
    "    else:\n",
    "        return False"
   ]
  },
  {
   "cell_type": "code",
   "execution_count": 13,
   "metadata": {},
   "outputs": [],
   "source": [
    "# determine which days are weekends and create a dataset with mean steps for week- and weekenddays\n",
    "step_data_subset = step_data.set_index('id')\n",
    "weekends = [weekend(column) for column in step_data_subset.columns]\n",
    "step_data_subset = step_data_subset.transpose()\n",
    "step_data_subset.columns = step_data_subset.columns.map(str)\n",
    "step_data_subset['mean_steps'] = step_data_subset.mean(axis=1)\n",
    "step_data_subset['weekend'] = weekends\n",
    "data_subset4 = step_data_subset[['weekend', 'mean_steps']]"
   ]
  },
  {
   "cell_type": "code",
   "execution_count": 14,
   "metadata": {},
   "outputs": [
    {
     "data": {
      "text/plain": [
       "<matplotlib.axes._subplots.AxesSubplot at 0x1a1f507ac8>"
      ]
     },
     "execution_count": 14,
     "metadata": {},
     "output_type": "execute_result"
    },
    {
     "data": {
      "image/png": "[encoded data removed]",
      "text/plain": [
       "<Figure size 720x360 with 1 Axes>"
      ]
     },
     "metadata": {
      "needs_background": "light"
     },
     "output_type": "display_data"
    }
   ],
   "source": [
    "# take the means and plot the differences between week and weekend\n",
    "data_subset5 = data_subset4.groupby('weekend').mean()\n",
    "data_subset5['weekend'] = data_subset3.index\n",
    "data_subset5.sort_values(by=['mean_steps']).plot.bar(x='weekend', y='mean_steps', title = 'mean steps per day during the week versus on the weekends', figsize=(10, 5))"
   ]
  },
  {
   "cell_type": "code",
   "execution_count": 15,
   "metadata": {},
   "outputs": [
    {
     "data": {
      "text/plain": [
       "Ttest_indResult(statistic=-3.682077487642583, pvalue=0.00027081376024546886)"
      ]
     },
     "execution_count": 15,
     "metadata": {},
     "output_type": "execute_result"
    }
   ],
   "source": [
    "# drop null values\n",
    "data_subset4 = data_subset4.dropna()\n",
    "# get two groups to compare with t-test\n",
    "group1 = data_subset4[data_subset4['weekend'] == True]\n",
    "group2 = data_subset4[data_subset4['weekend'] == False]\n",
    "# execute t-test\n",
    "ttest_ind(group1['mean_steps'], group2['mean_steps'])"
   ]
  },
  {
   "cell_type": "markdown",
   "metadata": {},
   "source": [
    "Since the p-value is lower than 0.05, we can assume that there is a difference between the two groups. In the plot you can see that during the week people walk more on average than during the weekend. So, people walk significantly more during the week than they do on the weekends."
   ]
  },
  {
   "cell_type": "markdown",
   "metadata": {},
   "source": [
    "### The relation between two qualitative variables"
   ]
  },
  {
   "cell_type": "code",
   "execution_count": 16,
   "metadata": {},
   "outputs": [],
   "source": [
    "# subset needed data\n",
    "data_subset6 = data[['gender', 'education']]"
   ]
  },
  {
   "cell_type": "code",
   "execution_count": 17,
   "metadata": {},
   "outputs": [],
   "source": [
    "# create a crosstable with the variables gender and education\n",
    "cross_table = pd.crosstab(data_subset6.gender, data_subset6.education).apply(lambda r: r/r.sum()*100, axis=1)"
   ]
  },
  {
   "cell_type": "code",
   "execution_count": 18,
   "metadata": {},
   "outputs": [
    {
     "data": {
      "text/plain": [
       "<matplotlib.axes._subplots.AxesSubplot at 0x1a1fc009b0>"
      ]
     },
     "execution_count": 18,
     "metadata": {},
     "output_type": "execute_result"
    },
    {
     "data": {
      "image/png": "[encoded data removed]",
      "text/plain": [
       "<Figure size 720x360 with 1 Axes>"
      ]
     },
     "metadata": {
      "needs_background": "light"
     },
     "output_type": "display_data"
    }
   ],
   "source": [
    "# make a stacked bar chart\n",
    "cross_table.plot.bar(stacked=True, figsize=(10, 5))"
   ]
  },
  {
   "cell_type": "code",
   "execution_count": 19,
   "metadata": {},
   "outputs": [
    {
     "data": {
      "text/html": [
       "<div>\n",
       "<style scoped>\n",
       "    .dataframe tbody tr th:only-of-type {\n",
       "        vertical-align: middle;\n",
       "    }\n",
       "\n",
       "    .dataframe tbody tr th {\n",
       "        vertical-align: top;\n",
       "    }\n",
       "\n",
       "    .dataframe thead th {\n",
       "        text-align: right;\n",
       "    }\n",
       "</style>\n",
       "<table border=\"1\" class=\"dataframe\">\n",
       "  <thead>\n",
       "    <tr style=\"text-align: right;\">\n",
       "      <th>education</th>\n",
       "      <th>bachelor</th>\n",
       "      <th>high school</th>\n",
       "      <th>master or doctorate</th>\n",
       "      <th>no degree</th>\n",
       "      <th>primary</th>\n",
       "      <th>vocational</th>\n",
       "    </tr>\n",
       "    <tr>\n",
       "      <th>gender</th>\n",
       "      <th></th>\n",
       "      <th></th>\n",
       "      <th></th>\n",
       "      <th></th>\n",
       "      <th></th>\n",
       "      <th></th>\n",
       "    </tr>\n",
       "  </thead>\n",
       "  <tbody>\n",
       "    <tr>\n",
       "      <th>female</th>\n",
       "      <td>38.975501</td>\n",
       "      <td>15.144766</td>\n",
       "      <td>40.757238</td>\n",
       "      <td>0.222717</td>\n",
       "      <td>1.336303</td>\n",
       "      <td>3.563474</td>\n",
       "    </tr>\n",
       "    <tr>\n",
       "      <th>male</th>\n",
       "      <td>40.292276</td>\n",
       "      <td>7.933194</td>\n",
       "      <td>45.929019</td>\n",
       "      <td>0.208768</td>\n",
       "      <td>1.043841</td>\n",
       "      <td>4.592902</td>\n",
       "    </tr>\n",
       "  </tbody>\n",
       "</table>\n",
       "</div>"
      ],
      "text/plain": [
       "education   bachelor  high school  master or doctorate  no degree   primary  \\\n",
       "gender                                                                        \n",
       "female     38.975501    15.144766            40.757238   0.222717  1.336303   \n",
       "male       40.292276     7.933194            45.929019   0.208768  1.043841   \n",
       "\n",
       "education  vocational  \n",
       "gender                 \n",
       "female       3.563474  \n",
       "male         4.592902  "
      ]
     },
     "execution_count": 19,
     "metadata": {},
     "output_type": "execute_result"
    }
   ],
   "source": [
    "# display the crosstable\n",
    "cross_table"
   ]
  },
  {
   "cell_type": "markdown",
   "metadata": {},
   "source": [
    "Both groups are very well educated with 41% for females and 46% for males having a masters or doctorate and 39% for females and 40% for males having a bachelors degree as the highest achieved diploma in their academic life. Males have relatively more masters or doctorate degrees than the females. The percentage of females of which a high school diploma is the highest achieved degree, is larger than the one for males. If this difference is significant cannot be told from the crosstable."
   ]
  }
 ],
 "metadata": {
  "kernelspec": {
   "display_name": "Python 3",
   "language": "python",
   "name": "python3"
  },
  "language_info": {
   "codemirror_mode": {
    "name": "ipython",
    "version": 3
   },
   "file_extension": ".py",
   "mimetype": "text/x-python",
   "name": "python",
   "nbconvert_exporter": "python",
   "pygments_lexer": "ipython3",
   "version": "3.7.3"
  }
 },
 "nbformat": 4,
 "nbformat_minor": 2
}
