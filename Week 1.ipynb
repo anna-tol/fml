{
 "cells": [
  {
   "cell_type": "code",
   "execution_count": 87,
   "metadata": {},
   "outputs": [],
   "source": [
    "import pandas as pd"
   ]
  },
  {
   "cell_type": "code",
   "execution_count": 88,
   "metadata": {},
   "outputs": [],
   "source": [
    "step_data = pd.read_csv('Assignment 1 - steps data.csv', sep=';')\n",
    "survey_data = pd.read_csv('Assignment 1 - survey data.csv')"
   ]
  },
  {
   "cell_type": "code",
   "execution_count": 89,
   "metadata": {},
   "outputs": [],
   "source": [
    "step_data.set_index('id')\n",
    "survey_data.set_index('id')\n",
    "data = survey_data.merge(step_data)"
   ]
  },
  {
   "cell_type": "code",
   "execution_count": 90,
   "metadata": {},
   "outputs": [],
   "source": [
    "sd = data[['waist']].std() # standard deviation\n",
    "mean = data[['waist']].mean() # mean \n",
    "minimum = mean - sd * 3 # minimum\n",
    "maximum = mean + sd * 3 # maximum"
   ]
  },
  {
   "cell_type": "code",
   "execution_count": 91,
   "metadata": {},
   "outputs": [],
   "source": [
    "# drop everything outside three times the standarddeviation\n",
    "data = data[data['waist'] > float(minimum)]\n",
    "data = data[data['waist'] < float(maximum)]"
   ]
  }
 ],
 "metadata": {
  "kernelspec": {
   "display_name": "Python 3",
   "language": "python",
   "name": "python3"
  },
  "language_info": {
   "codemirror_mode": {
    "name": "ipython",
    "version": 3
   },
   "file_extension": ".py",
   "mimetype": "text/x-python",
   "name": "python",
   "nbconvert_exporter": "python",
   "pygments_lexer": "ipython3",
   "version": "3.7.3"
  }
 },
 "nbformat": 4,
 "nbformat_minor": 2
}
