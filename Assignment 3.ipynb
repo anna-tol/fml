{
 "cells": [
  {
   "cell_type": "markdown",
   "metadata": {},
   "source": [
    "# Assignment 3"
   ]
  },
  {
   "cell_type": "markdown",
   "metadata": {},
   "source": [
    "Fundamentals of Machine Learning <br>\n",
    "Master Data-Driven Design <br>\n",
    "University of Applied Science Utrecht"
   ]
  },
  {
   "cell_type": "markdown",
   "metadata": {},
   "source": [
    "## How Lineair Regression Works"
   ]
  },
  {
   "cell_type": "markdown",
   "metadata": {},
   "source": [
    "With lineair regression you built a model using a independent variable ($x$) to predict a dependent variable ($y$). The model will try to find a lineair line among provided data points. Since we are talking about a lineair regression line, we can use the following equation: $y = b + mx$. In this equation is $b$ the intercept and $m$ the slope."
   ]
  },
  {
   "cell_type": "markdown",
   "metadata": {},
   "source": [
    "## Data Pre-Processing"
   ]
  },
  {
   "cell_type": "code",
   "execution_count": 1,
   "metadata": {},
   "outputs": [],
   "source": [
    "# importing stuff\n",
    "import math\n",
    "import seaborn as sns\n",
    "import pandas as pd\n",
    "import numpy as np\n",
    "import matplotlib.pyplot as plt\n",
    "import sklearn as sk\n",
    "from sklearn import metrics\n",
    "from sklearn.model_selection import train_test_split\n",
    "from sklearn.linear_model import LinearRegression\n",
    "%matplotlib inline"
   ]
  },
  {
   "cell_type": "code",
   "execution_count": 2,
   "metadata": {},
   "outputs": [],
   "source": [
    "# loading data\n",
    "data = pd.read_csv('data Mashable.csv')"
   ]
  },
  {
   "cell_type": "code",
   "execution_count": 3,
   "metadata": {},
   "outputs": [
    {
     "data": {
      "text/html": [
       "<div>\n",
       "<style scoped>\n",
       "    .dataframe tbody tr th:only-of-type {\n",
       "        vertical-align: middle;\n",
       "    }\n",
       "\n",
       "    .dataframe tbody tr th {\n",
       "        vertical-align: top;\n",
       "    }\n",
       "\n",
       "    .dataframe thead th {\n",
       "        text-align: right;\n",
       "    }\n",
       "</style>\n",
       "<table border=\"1\" class=\"dataframe\">\n",
       "  <thead>\n",
       "    <tr style=\"text-align: right;\">\n",
       "      <th></th>\n",
       "      <th>id</th>\n",
       "      <th>url</th>\n",
       "      <th>n_tokens_title</th>\n",
       "      <th>n_tokens_content</th>\n",
       "      <th>num_imgs</th>\n",
       "      <th>num_videos</th>\n",
       "      <th>average_token_length</th>\n",
       "      <th>data_channel_is_lifestyle</th>\n",
       "      <th>data_channel_is_entertainment</th>\n",
       "      <th>data_channel_is_bus</th>\n",
       "      <th>...</th>\n",
       "      <th>weekday_is_friday</th>\n",
       "      <th>weekday_is_saturday</th>\n",
       "      <th>weekday_is_sunday</th>\n",
       "      <th>is_weekend</th>\n",
       "      <th>global_subjectivity</th>\n",
       "      <th>global_sentiment_polarity</th>\n",
       "      <th>title_subjectivity</th>\n",
       "      <th>title_sentiment_polarity</th>\n",
       "      <th>shares</th>\n",
       "      <th>shares_log</th>\n",
       "    </tr>\n",
       "  </thead>\n",
       "  <tbody>\n",
       "    <tr>\n",
       "      <th>0</th>\n",
       "      <td>1</td>\n",
       "      <td>http://mashable.com/2013/10/29/ashton-kutcher-...</td>\n",
       "      <td>10</td>\n",
       "      <td>821</td>\n",
       "      <td>12</td>\n",
       "      <td>0</td>\n",
       "      <td>4.518879</td>\n",
       "      <td>0</td>\n",
       "      <td>0</td>\n",
       "      <td>0</td>\n",
       "      <td>...</td>\n",
       "      <td>0</td>\n",
       "      <td>0</td>\n",
       "      <td>0</td>\n",
       "      <td>0</td>\n",
       "      <td>0.439379</td>\n",
       "      <td>0.082486</td>\n",
       "      <td>0.666667</td>\n",
       "      <td>0.375</td>\n",
       "      <td>2100</td>\n",
       "      <td>3.322219</td>\n",
       "    </tr>\n",
       "    <tr>\n",
       "      <th>1</th>\n",
       "      <td>2</td>\n",
       "      <td>http://mashable.com/2014/09/08/mashies-sept-19...</td>\n",
       "      <td>9</td>\n",
       "      <td>489</td>\n",
       "      <td>6</td>\n",
       "      <td>0</td>\n",
       "      <td>5.040900</td>\n",
       "      <td>0</td>\n",
       "      <td>0</td>\n",
       "      <td>0</td>\n",
       "      <td>...</td>\n",
       "      <td>0</td>\n",
       "      <td>0</td>\n",
       "      <td>0</td>\n",
       "      <td>0</td>\n",
       "      <td>0.300454</td>\n",
       "      <td>0.027715</td>\n",
       "      <td>0.000000</td>\n",
       "      <td>0.000</td>\n",
       "      <td>274</td>\n",
       "      <td>2.437751</td>\n",
       "    </tr>\n",
       "    <tr>\n",
       "      <th>2</th>\n",
       "      <td>3</td>\n",
       "      <td>http://mashable.com/2013/02/01/hello-kitty-roc...</td>\n",
       "      <td>11</td>\n",
       "      <td>131</td>\n",
       "      <td>0</td>\n",
       "      <td>1</td>\n",
       "      <td>4.877863</td>\n",
       "      <td>0</td>\n",
       "      <td>0</td>\n",
       "      <td>0</td>\n",
       "      <td>...</td>\n",
       "      <td>1</td>\n",
       "      <td>0</td>\n",
       "      <td>0</td>\n",
       "      <td>0</td>\n",
       "      <td>0.575486</td>\n",
       "      <td>0.259120</td>\n",
       "      <td>0.000000</td>\n",
       "      <td>0.000</td>\n",
       "      <td>1500</td>\n",
       "      <td>3.176091</td>\n",
       "    </tr>\n",
       "    <tr>\n",
       "      <th>3</th>\n",
       "      <td>4</td>\n",
       "      <td>http://mashable.com/2014/02/06/add-us-on-snapc...</td>\n",
       "      <td>8</td>\n",
       "      <td>556</td>\n",
       "      <td>2</td>\n",
       "      <td>0</td>\n",
       "      <td>4.974820</td>\n",
       "      <td>0</td>\n",
       "      <td>0</td>\n",
       "      <td>1</td>\n",
       "      <td>...</td>\n",
       "      <td>0</td>\n",
       "      <td>0</td>\n",
       "      <td>0</td>\n",
       "      <td>0</td>\n",
       "      <td>0.327220</td>\n",
       "      <td>0.134424</td>\n",
       "      <td>0.000000</td>\n",
       "      <td>0.000</td>\n",
       "      <td>2000</td>\n",
       "      <td>3.301030</td>\n",
       "    </tr>\n",
       "    <tr>\n",
       "      <th>4</th>\n",
       "      <td>5</td>\n",
       "      <td>http://mashable.com/2014/01/07/lindsey-vonn-wi...</td>\n",
       "      <td>9</td>\n",
       "      <td>880</td>\n",
       "      <td>18</td>\n",
       "      <td>0</td>\n",
       "      <td>4.928409</td>\n",
       "      <td>0</td>\n",
       "      <td>0</td>\n",
       "      <td>0</td>\n",
       "      <td>...</td>\n",
       "      <td>0</td>\n",
       "      <td>0</td>\n",
       "      <td>0</td>\n",
       "      <td>0</td>\n",
       "      <td>0.507709</td>\n",
       "      <td>0.109256</td>\n",
       "      <td>0.000000</td>\n",
       "      <td>0.000</td>\n",
       "      <td>6000</td>\n",
       "      <td>3.778151</td>\n",
       "    </tr>\n",
       "  </tbody>\n",
       "</table>\n",
       "<p>5 rows × 27 columns</p>\n",
       "</div>"
      ],
      "text/plain": [
       "   id                                                url  n_tokens_title  \\\n",
       "0   1  http://mashable.com/2013/10/29/ashton-kutcher-...              10   \n",
       "1   2  http://mashable.com/2014/09/08/mashies-sept-19...               9   \n",
       "2   3  http://mashable.com/2013/02/01/hello-kitty-roc...              11   \n",
       "3   4  http://mashable.com/2014/02/06/add-us-on-snapc...               8   \n",
       "4   5  http://mashable.com/2014/01/07/lindsey-vonn-wi...               9   \n",
       "\n",
       "   n_tokens_content  num_imgs  num_videos  average_token_length  \\\n",
       "0               821        12           0              4.518879   \n",
       "1               489         6           0              5.040900   \n",
       "2               131         0           1              4.877863   \n",
       "3               556         2           0              4.974820   \n",
       "4               880        18           0              4.928409   \n",
       "\n",
       "   data_channel_is_lifestyle  data_channel_is_entertainment  \\\n",
       "0                          0                              0   \n",
       "1                          0                              0   \n",
       "2                          0                              0   \n",
       "3                          0                              0   \n",
       "4                          0                              0   \n",
       "\n",
       "   data_channel_is_bus  ...  weekday_is_friday  weekday_is_saturday  \\\n",
       "0                    0  ...                  0                    0   \n",
       "1                    0  ...                  0                    0   \n",
       "2                    0  ...                  1                    0   \n",
       "3                    1  ...                  0                    0   \n",
       "4                    0  ...                  0                    0   \n",
       "\n",
       "   weekday_is_sunday  is_weekend  global_subjectivity  \\\n",
       "0                  0           0             0.439379   \n",
       "1                  0           0             0.300454   \n",
       "2                  0           0             0.575486   \n",
       "3                  0           0             0.327220   \n",
       "4                  0           0             0.507709   \n",
       "\n",
       "   global_sentiment_polarity  title_subjectivity  title_sentiment_polarity  \\\n",
       "0                   0.082486            0.666667                     0.375   \n",
       "1                   0.027715            0.000000                     0.000   \n",
       "2                   0.259120            0.000000                     0.000   \n",
       "3                   0.134424            0.000000                     0.000   \n",
       "4                   0.109256            0.000000                     0.000   \n",
       "\n",
       "   shares  shares_log  \n",
       "0    2100    3.322219  \n",
       "1     274    2.437751  \n",
       "2    1500    3.176091  \n",
       "3    2000    3.301030  \n",
       "4    6000    3.778151  \n",
       "\n",
       "[5 rows x 27 columns]"
      ]
     },
     "execution_count": 3,
     "metadata": {},
     "output_type": "execute_result"
    }
   ],
   "source": [
    "# showing data\n",
    "data.head(5)"
   ]
  },
  {
   "cell_type": "markdown",
   "metadata": {},
   "source": [
    "## Which Variables to Use in the Model"
   ]
  },
  {
   "cell_type": "code",
   "execution_count": 4,
   "metadata": {},
   "outputs": [
    {
     "name": "stdout",
     "output_type": "stream",
     "text": [
      "Index(['id', 'url', 'n_tokens_title', 'n_tokens_content', 'num_imgs',\n",
      "       'num_videos', 'average_token_length', 'data_channel_is_lifestyle',\n",
      "       'data_channel_is_entertainment', 'data_channel_is_bus',\n",
      "       'data_channel_is_socmed', 'data_channel_is_tech',\n",
      "       'data_channel_is_world', 'weekday_is_monday', 'weekday_is_tuesday',\n",
      "       'weekday_is_wednesday', 'weekday_is_thursday', 'weekday_is_friday',\n",
      "       'weekday_is_saturday', 'weekday_is_sunday', 'is_weekend',\n",
      "       'global_subjectivity', 'global_sentiment_polarity',\n",
      "       'title_subjectivity', 'title_sentiment_polarity', 'shares',\n",
      "       'shares_log'],\n",
      "      dtype='object')\n"
     ]
    }
   ],
   "source": [
    "# show what variables we can work with\n",
    "print(data.columns)"
   ]
  },
  {
   "cell_type": "code",
   "execution_count": 5,
   "metadata": {},
   "outputs": [
    {
     "data": {
      "text/html": [
       "<div>\n",
       "<style scoped>\n",
       "    .dataframe tbody tr th:only-of-type {\n",
       "        vertical-align: middle;\n",
       "    }\n",
       "\n",
       "    .dataframe tbody tr th {\n",
       "        vertical-align: top;\n",
       "    }\n",
       "\n",
       "    .dataframe thead th {\n",
       "        text-align: right;\n",
       "    }\n",
       "</style>\n",
       "<table border=\"1\" class=\"dataframe\">\n",
       "  <thead>\n",
       "    <tr style=\"text-align: right;\">\n",
       "      <th></th>\n",
       "      <th>id</th>\n",
       "      <th>n_tokens_title</th>\n",
       "      <th>n_tokens_content</th>\n",
       "      <th>num_imgs</th>\n",
       "      <th>num_videos</th>\n",
       "      <th>average_token_length</th>\n",
       "      <th>data_channel_is_lifestyle</th>\n",
       "      <th>data_channel_is_entertainment</th>\n",
       "      <th>data_channel_is_bus</th>\n",
       "      <th>data_channel_is_socmed</th>\n",
       "      <th>...</th>\n",
       "      <th>weekday_is_friday</th>\n",
       "      <th>weekday_is_saturday</th>\n",
       "      <th>weekday_is_sunday</th>\n",
       "      <th>is_weekend</th>\n",
       "      <th>global_subjectivity</th>\n",
       "      <th>global_sentiment_polarity</th>\n",
       "      <th>title_subjectivity</th>\n",
       "      <th>title_sentiment_polarity</th>\n",
       "      <th>shares</th>\n",
       "      <th>shares_log</th>\n",
       "    </tr>\n",
       "  </thead>\n",
       "  <tbody>\n",
       "    <tr>\n",
       "      <th>n_tokens_title</th>\n",
       "      <td>-0.006956</td>\n",
       "      <td>1.000000</td>\n",
       "      <td>0.022547</td>\n",
       "      <td>0.000777</td>\n",
       "      <td>0.054971</td>\n",
       "      <td>-0.051485</td>\n",
       "      <td>-0.066005</td>\n",
       "      <td>0.148125</td>\n",
       "      <td>-0.015670</td>\n",
       "      <td>-0.089559</td>\n",
       "      <td>...</td>\n",
       "      <td>-0.004514</td>\n",
       "      <td>-0.018488</td>\n",
       "      <td>0.013699</td>\n",
       "      <td>-0.002890</td>\n",
       "      <td>-0.036779</td>\n",
       "      <td>-0.059906</td>\n",
       "      <td>0.075907</td>\n",
       "      <td>0.007217</td>\n",
       "      <td>0.011404</td>\n",
       "      <td>-0.012247</td>\n",
       "    </tr>\n",
       "    <tr>\n",
       "      <th>data_channel_is_entertainment</th>\n",
       "      <td>0.007765</td>\n",
       "      <td>0.148125</td>\n",
       "      <td>0.055814</td>\n",
       "      <td>0.111108</td>\n",
       "      <td>0.128427</td>\n",
       "      <td>-0.054350</td>\n",
       "      <td>-0.110844</td>\n",
       "      <td>1.000000</td>\n",
       "      <td>-0.202876</td>\n",
       "      <td>-0.118710</td>\n",
       "      <td>...</td>\n",
       "      <td>-0.005936</td>\n",
       "      <td>-0.015870</td>\n",
       "      <td>0.007414</td>\n",
       "      <td>-0.005749</td>\n",
       "      <td>0.027306</td>\n",
       "      <td>-0.044559</td>\n",
       "      <td>0.045334</td>\n",
       "      <td>-0.014189</td>\n",
       "      <td>-0.013069</td>\n",
       "      <td>-0.080967</td>\n",
       "    </tr>\n",
       "    <tr>\n",
       "      <th>title_subjectivity</th>\n",
       "      <td>-0.008384</td>\n",
       "      <td>0.075907</td>\n",
       "      <td>0.004364</td>\n",
       "      <td>0.056100</td>\n",
       "      <td>0.058613</td>\n",
       "      <td>-0.037501</td>\n",
       "      <td>-0.005399</td>\n",
       "      <td>0.045334</td>\n",
       "      <td>-0.040481</td>\n",
       "      <td>-0.013620</td>\n",
       "      <td>...</td>\n",
       "      <td>0.004438</td>\n",
       "      <td>0.002299</td>\n",
       "      <td>0.026287</td>\n",
       "      <td>0.021418</td>\n",
       "      <td>0.125244</td>\n",
       "      <td>0.026624</td>\n",
       "      <td>1.000000</td>\n",
       "      <td>0.238629</td>\n",
       "      <td>0.019736</td>\n",
       "      <td>0.055161</td>\n",
       "    </tr>\n",
       "    <tr>\n",
       "      <th>num_videos</th>\n",
       "      <td>-0.000009</td>\n",
       "      <td>0.054971</td>\n",
       "      <td>0.097596</td>\n",
       "      <td>-0.073084</td>\n",
       "      <td>1.000000</td>\n",
       "      <td>-0.006436</td>\n",
       "      <td>-0.047774</td>\n",
       "      <td>0.128427</td>\n",
       "      <td>-0.063903</td>\n",
       "      <td>-0.014793</td>\n",
       "      <td>...</td>\n",
       "      <td>0.011070</td>\n",
       "      <td>-0.009846</td>\n",
       "      <td>-0.012664</td>\n",
       "      <td>-0.016556</td>\n",
       "      <td>0.089470</td>\n",
       "      <td>-0.027871</td>\n",
       "      <td>0.058613</td>\n",
       "      <td>0.021671</td>\n",
       "      <td>0.025691</td>\n",
       "      <td>0.037147</td>\n",
       "    </tr>\n",
       "    <tr>\n",
       "      <th>data_channel_is_world</th>\n",
       "      <td>0.000383</td>\n",
       "      <td>0.032430</td>\n",
       "      <td>0.049954</td>\n",
       "      <td>-0.106978</td>\n",
       "      <td>-0.084919</td>\n",
       "      <td>0.067396</td>\n",
       "      <td>-0.119563</td>\n",
       "      <td>-0.229642</td>\n",
       "      <td>-0.218833</td>\n",
       "      <td>-0.128047</td>\n",
       "      <td>...</td>\n",
       "      <td>0.020217</td>\n",
       "      <td>0.000368</td>\n",
       "      <td>-0.008691</td>\n",
       "      <td>-0.006276</td>\n",
       "      <td>-0.198923</td>\n",
       "      <td>-0.214410</td>\n",
       "      <td>-0.062078</td>\n",
       "      <td>-0.073449</td>\n",
       "      <td>-0.045618</td>\n",
       "      <td>-0.141932</td>\n",
       "    </tr>\n",
       "  </tbody>\n",
       "</table>\n",
       "<p>5 rows × 26 columns</p>\n",
       "</div>"
      ],
      "text/plain": [
       "                                     id  n_tokens_title  n_tokens_content  \\\n",
       "n_tokens_title                -0.006956        1.000000          0.022547   \n",
       "data_channel_is_entertainment  0.007765        0.148125          0.055814   \n",
       "title_subjectivity            -0.008384        0.075907          0.004364   \n",
       "num_videos                    -0.000009        0.054971          0.097596   \n",
       "data_channel_is_world          0.000383        0.032430          0.049954   \n",
       "\n",
       "                               num_imgs  num_videos  average_token_length  \\\n",
       "n_tokens_title                 0.000777    0.054971             -0.051485   \n",
       "data_channel_is_entertainment  0.111108    0.128427             -0.054350   \n",
       "title_subjectivity             0.056100    0.058613             -0.037501   \n",
       "num_videos                    -0.073084    1.000000             -0.006436   \n",
       "data_channel_is_world         -0.106978   -0.084919              0.067396   \n",
       "\n",
       "                               data_channel_is_lifestyle  \\\n",
       "n_tokens_title                                 -0.066005   \n",
       "data_channel_is_entertainment                  -0.110844   \n",
       "title_subjectivity                             -0.005399   \n",
       "num_videos                                     -0.047774   \n",
       "data_channel_is_world                          -0.119563   \n",
       "\n",
       "                               data_channel_is_entertainment  \\\n",
       "n_tokens_title                                      0.148125   \n",
       "data_channel_is_entertainment                       1.000000   \n",
       "title_subjectivity                                  0.045334   \n",
       "num_videos                                          0.128427   \n",
       "data_channel_is_world                              -0.229642   \n",
       "\n",
       "                               data_channel_is_bus  data_channel_is_socmed  \\\n",
       "n_tokens_title                           -0.015670               -0.089559   \n",
       "data_channel_is_entertainment            -0.202876               -0.118710   \n",
       "title_subjectivity                       -0.040481               -0.013620   \n",
       "num_videos                               -0.063903               -0.014793   \n",
       "data_channel_is_world                    -0.218833               -0.128047   \n",
       "\n",
       "                               ...  weekday_is_friday  weekday_is_saturday  \\\n",
       "n_tokens_title                 ...          -0.004514            -0.018488   \n",
       "data_channel_is_entertainment  ...          -0.005936            -0.015870   \n",
       "title_subjectivity             ...           0.004438             0.002299   \n",
       "num_videos                     ...           0.011070            -0.009846   \n",
       "data_channel_is_world          ...           0.020217             0.000368   \n",
       "\n",
       "                               weekday_is_sunday  is_weekend  \\\n",
       "n_tokens_title                          0.013699   -0.002890   \n",
       "data_channel_is_entertainment           0.007414   -0.005749   \n",
       "title_subjectivity                      0.026287    0.021418   \n",
       "num_videos                             -0.012664   -0.016556   \n",
       "data_channel_is_world                  -0.008691   -0.006276   \n",
       "\n",
       "                               global_subjectivity  global_sentiment_polarity  \\\n",
       "n_tokens_title                           -0.036779                  -0.059906   \n",
       "data_channel_is_entertainment             0.027306                  -0.044559   \n",
       "title_subjectivity                        0.125244                   0.026624   \n",
       "num_videos                                0.089470                  -0.027871   \n",
       "data_channel_is_world                    -0.198923                  -0.214410   \n",
       "\n",
       "                               title_subjectivity  title_sentiment_polarity  \\\n",
       "n_tokens_title                           0.075907                  0.007217   \n",
       "data_channel_is_entertainment            0.045334                 -0.014189   \n",
       "title_subjectivity                       1.000000                  0.238629   \n",
       "num_videos                               0.058613                  0.021671   \n",
       "data_channel_is_world                   -0.062078                 -0.073449   \n",
       "\n",
       "                                 shares  shares_log  \n",
       "n_tokens_title                 0.011404   -0.012247  \n",
       "data_channel_is_entertainment -0.013069   -0.080967  \n",
       "title_subjectivity             0.019736    0.055161  \n",
       "num_videos                     0.025691    0.037147  \n",
       "data_channel_is_world         -0.045618   -0.141932  \n",
       "\n",
       "[5 rows x 26 columns]"
      ]
     },
     "execution_count": 5,
     "metadata": {},
     "output_type": "execute_result"
    }
   ],
   "source": [
    "# show correlation matrix (only five highest rows) to see if some correlate heavily\n",
    "# answer is no\n",
    "data.corr().nlargest(5, ['n_tokens_title', 'n_tokens_content', 'num_imgs',\n",
    "       'num_videos', 'average_token_length', 'data_channel_is_lifestyle',\n",
    "       'data_channel_is_entertainment', 'data_channel_is_bus',\n",
    "       'data_channel_is_socmed', 'data_channel_is_tech',\n",
    "       'data_channel_is_world', 'weekday_is_monday', 'weekday_is_tuesday',\n",
    "       'weekday_is_wednesday', 'weekday_is_thursday', 'weekday_is_friday',\n",
    "       'weekday_is_saturday', 'weekday_is_sunday', 'is_weekend',\n",
    "       'global_subjectivity', 'global_sentiment_polarity',\n",
    "       'title_subjectivity', 'title_sentiment_polarity', 'shares', 'shares_log'])"
   ]
  },
  {
   "cell_type": "code",
   "execution_count": 6,
   "metadata": {},
   "outputs": [
    {
     "data": {
      "text/plain": [
       "1    21195\n",
       "0     3804\n",
       "Name: sum, dtype: int64"
      ]
     },
     "execution_count": 6,
     "metadata": {},
     "output_type": "execute_result"
    }
   ],
   "source": [
    "# check if all articles are categorized\n",
    "# answer is no: 3804 are not.\n",
    "data['sum'] = data['data_channel_is_lifestyle'] + data['data_channel_is_entertainment'] + data['data_channel_is_bus'] + data['data_channel_is_socmed'] + data['data_channel_is_tech'] + data['data_channel_is_world']\n",
    "data['sum'].value_counts()"
   ]
  },
  {
   "cell_type": "code",
   "execution_count": 7,
   "metadata": {},
   "outputs": [
    {
     "data": {
      "text/plain": [
       "n_tokens_title                  -0.012247\n",
       "n_tokens_content                 0.032897\n",
       "num_imgs                         0.085575\n",
       "num_videos                       0.037147\n",
       "average_token_length            -0.031730\n",
       "data_channel_is_lifestyle        0.036926\n",
       "data_channel_is_entertainment   -0.080967\n",
       "data_channel_is_bus             -0.033469\n",
       "data_channel_is_socmed           0.085516\n",
       "data_channel_is_tech             0.047729\n",
       "data_channel_is_world           -0.141932\n",
       "weekday_is_monday               -0.007843\n",
       "weekday_is_tuesday              -0.027738\n",
       "weekday_is_wednesday            -0.032125\n",
       "weekday_is_thursday             -0.030329\n",
       "weekday_is_friday                0.006309\n",
       "weekday_is_saturday              0.072644\n",
       "weekday_is_sunday                0.071864\n",
       "is_weekend                       0.105919\n",
       "global_subjectivity              0.093021\n",
       "global_sentiment_polarity        0.053199\n",
       "title_subjectivity               0.055161\n",
       "title_sentiment_polarity         0.050216\n",
       "shares                           0.483322\n",
       "shares_log                       1.000000\n",
       "sum                             -0.144249\n",
       "Name: shares_log, dtype: float64"
      ]
     },
     "execution_count": 7,
     "metadata": {},
     "output_type": "execute_result"
    }
   ],
   "source": [
    "# show the correlations of all variables with shares_log\n",
    "data[data.columns[1:]].corr()['shares_log'][:]"
   ]
  },
  {
   "cell_type": "markdown",
   "metadata": {},
   "source": [
    "From this list of variables, the following have been chosen to be fitted into the model:\n",
    "* Weekend\n",
    "    * Whether the article was posted on a weekend day has the highest correlation with with shares_log.\n",
    "    * Therefore this variable was used in the model.\n",
    "    * Which specific day has a lesser influence.\n",
    "* Kind of channel\n",
    "    * data_channel_is_world has after is_weekend the highest correlation with shares_log.\n",
    "    * Since this variable is part of a series of dummies, all dummies are included.\n",
    "    * There are 3804 articles that are not classied in one of the 6 categories and therefore they are all used.\n",
    "* Global subjectivity\n",
    "    * After kind of channel, global subjectivity has the highest correlation.\n",
    "* Number of images\n",
    "    * After global subjectivity, number of images has the highest correlation.\n",
    "* Title subjectivity\n",
    "    * After number of images, title subjectivity has the highest correlation.\n",
    "    \n",
    "Number of shares has not been chosen since shares_log has been derived from this variable."
   ]
  },
  {
   "cell_type": "code",
   "execution_count": 8,
   "metadata": {},
   "outputs": [],
   "source": [
    "# select these variables\n",
    "x_data = data[['is_weekend', 'data_channel_is_lifestyle', 'data_channel_is_entertainment', \n",
    "               'data_channel_is_bus','data_channel_is_socmed', 'data_channel_is_tech', \n",
    "               'data_channel_is_world', 'global_subjectivity', 'num_imgs', 'title_subjectivity']]"
   ]
  },
  {
   "cell_type": "code",
   "execution_count": 9,
   "metadata": {},
   "outputs": [],
   "source": [
    "# get all the values of the independent and dependent variables\n",
    "x = x_data.values\n",
    "y = data['shares_log'].values"
   ]
  },
  {
   "cell_type": "markdown",
   "metadata": {},
   "source": [
    "## Split the Dataset"
   ]
  },
  {
   "cell_type": "markdown",
   "metadata": {},
   "source": [
    "Use 70% of the data for the training dataset and 30% for the testing dataset."
   ]
  },
  {
   "cell_type": "code",
   "execution_count": 10,
   "metadata": {},
   "outputs": [],
   "source": [
    "x_train, x_test, y_train, y_test = train_test_split(x, y, test_size = 0.3, random_state = 1)"
   ]
  },
  {
   "cell_type": "markdown",
   "metadata": {},
   "source": [
    "## Train the model"
   ]
  },
  {
   "cell_type": "code",
   "execution_count": 11,
   "metadata": {},
   "outputs": [
    {
     "data": {
      "text/plain": [
       "LinearRegression(copy_X=True, fit_intercept=True, n_jobs=None, normalize=False)"
      ]
     },
     "execution_count": 11,
     "metadata": {},
     "output_type": "execute_result"
    }
   ],
   "source": [
    "# make the model and train the model\n",
    "lm = LinearRegression()  \n",
    "lm.fit(x_train, y_train)"
   ]
  },
  {
   "cell_type": "code",
   "execution_count": 12,
   "metadata": {},
   "outputs": [
    {
     "data": {
      "text/html": [
       "<div>\n",
       "<style scoped>\n",
       "    .dataframe tbody tr th:only-of-type {\n",
       "        vertical-align: middle;\n",
       "    }\n",
       "\n",
       "    .dataframe tbody tr th {\n",
       "        vertical-align: top;\n",
       "    }\n",
       "\n",
       "    .dataframe thead th {\n",
       "        text-align: right;\n",
       "    }\n",
       "</style>\n",
       "<table border=\"1\" class=\"dataframe\">\n",
       "  <thead>\n",
       "    <tr style=\"text-align: right;\">\n",
       "      <th></th>\n",
       "      <th>coefficient</th>\n",
       "    </tr>\n",
       "  </thead>\n",
       "  <tbody>\n",
       "    <tr>\n",
       "      <th>is_weekend</th>\n",
       "      <td>0.118794</td>\n",
       "    </tr>\n",
       "    <tr>\n",
       "      <th>data_channel_is_lifestyle</th>\n",
       "      <td>-0.063844</td>\n",
       "    </tr>\n",
       "    <tr>\n",
       "      <th>data_channel_is_entertainment</th>\n",
       "      <td>-0.201860</td>\n",
       "    </tr>\n",
       "    <tr>\n",
       "      <th>data_channel_is_bus</th>\n",
       "      <td>-0.139517</td>\n",
       "    </tr>\n",
       "    <tr>\n",
       "      <th>data_channel_is_socmed</th>\n",
       "      <td>0.005019</td>\n",
       "    </tr>\n",
       "    <tr>\n",
       "      <th>data_channel_is_tech</th>\n",
       "      <td>-0.084932</td>\n",
       "    </tr>\n",
       "    <tr>\n",
       "      <th>data_channel_is_world</th>\n",
       "      <td>-0.229058</td>\n",
       "    </tr>\n",
       "    <tr>\n",
       "      <th>global_subjectivity</th>\n",
       "      <td>0.154307</td>\n",
       "    </tr>\n",
       "    <tr>\n",
       "      <th>num_imgs</th>\n",
       "      <td>0.002605</td>\n",
       "    </tr>\n",
       "    <tr>\n",
       "      <th>title_subjectivity</th>\n",
       "      <td>0.029093</td>\n",
       "    </tr>\n",
       "  </tbody>\n",
       "</table>\n",
       "</div>"
      ],
      "text/plain": [
       "                               coefficient\n",
       "is_weekend                        0.118794\n",
       "data_channel_is_lifestyle        -0.063844\n",
       "data_channel_is_entertainment    -0.201860\n",
       "data_channel_is_bus              -0.139517\n",
       "data_channel_is_socmed            0.005019\n",
       "data_channel_is_tech             -0.084932\n",
       "data_channel_is_world            -0.229058\n",
       "global_subjectivity               0.154307\n",
       "num_imgs                          0.002605\n",
       "title_subjectivity                0.029093"
      ]
     },
     "execution_count": 12,
     "metadata": {},
     "output_type": "execute_result"
    }
   ],
   "source": [
    "# make a dataframe with a coefficient for each variable\n",
    "coeff_df = pd.DataFrame(lm.coef_, x_data.columns, columns=['coefficient'])  \n",
    "coeff_df"
   ]
  },
  {
   "cell_type": "code",
   "execution_count": 13,
   "metadata": {},
   "outputs": [
    {
     "name": "stdout",
     "output_type": "stream",
     "text": [
      "y = 3.26 + 0.11x\n"
     ]
    }
   ],
   "source": [
    "# fit the model\n",
    "lm.fit(x, y)\n",
    "\n",
    "# get the intercept\n",
    "b0 = lm.intercept_\n",
    "\n",
    "# get the coefficient\n",
    "b1 = lm.coef_[0]\n",
    "\n",
    "print(f\"y = {b0:.2f} + {b1:.2f}x\")"
   ]
  },
  {
   "cell_type": "markdown",
   "metadata": {},
   "source": [
    "This means our lineair regression line can be formulated as follows: $y = 3.33 + 0.11x$"
   ]
  },
  {
   "cell_type": "markdown",
   "metadata": {},
   "source": [
    "## Evaluating the Model "
   ]
  },
  {
   "cell_type": "code",
   "execution_count": 14,
   "metadata": {},
   "outputs": [],
   "source": [
    "# make predictions\n",
    "y_pred = lm.predict(x_test)"
   ]
  },
  {
   "cell_type": "code",
   "execution_count": 15,
   "metadata": {},
   "outputs": [
    {
     "data": {
      "text/html": [
       "<div>\n",
       "<style scoped>\n",
       "    .dataframe tbody tr th:only-of-type {\n",
       "        vertical-align: middle;\n",
       "    }\n",
       "\n",
       "    .dataframe tbody tr th {\n",
       "        vertical-align: top;\n",
       "    }\n",
       "\n",
       "    .dataframe thead th {\n",
       "        text-align: right;\n",
       "    }\n",
       "</style>\n",
       "<table border=\"1\" class=\"dataframe\">\n",
       "  <thead>\n",
       "    <tr style=\"text-align: right;\">\n",
       "      <th></th>\n",
       "      <th>actual</th>\n",
       "      <th>predicted</th>\n",
       "    </tr>\n",
       "  </thead>\n",
       "  <tbody>\n",
       "    <tr>\n",
       "      <th>0</th>\n",
       "      <td>3.556303</td>\n",
       "      <td>3.407664</td>\n",
       "    </tr>\n",
       "    <tr>\n",
       "      <th>1</th>\n",
       "      <td>3.113943</td>\n",
       "      <td>3.372029</td>\n",
       "    </tr>\n",
       "    <tr>\n",
       "      <th>2</th>\n",
       "      <td>3.278754</td>\n",
       "      <td>3.282522</td>\n",
       "    </tr>\n",
       "    <tr>\n",
       "      <th>3</th>\n",
       "      <td>3.623249</td>\n",
       "      <td>3.396631</td>\n",
       "    </tr>\n",
       "    <tr>\n",
       "      <th>4</th>\n",
       "      <td>3.838849</td>\n",
       "      <td>3.283757</td>\n",
       "    </tr>\n",
       "  </tbody>\n",
       "</table>\n",
       "</div>"
      ],
      "text/plain": [
       "     actual  predicted\n",
       "0  3.556303   3.407664\n",
       "1  3.113943   3.372029\n",
       "2  3.278754   3.282522\n",
       "3  3.623249   3.396631\n",
       "4  3.838849   3.283757"
      ]
     },
     "execution_count": 15,
     "metadata": {},
     "output_type": "execute_result"
    }
   ],
   "source": [
    "# compare the prediction to the actual value\n",
    "pred_data = pd.DataFrame({'actual': y_test, 'predicted': y_pred})\n",
    "pred_data.head(5)"
   ]
  },
  {
   "cell_type": "markdown",
   "metadata": {},
   "source": [
    "### R<sup>2</sup>"
   ]
  },
  {
   "cell_type": "code",
   "execution_count": 16,
   "metadata": {},
   "outputs": [
    {
     "data": {
      "text/plain": [
       "0.06318884217384191"
      ]
     },
     "execution_count": 16,
     "metadata": {},
     "output_type": "execute_result"
    }
   ],
   "source": [
    "metrics.r2_score(y_test, y_pred)"
   ]
  },
  {
   "cell_type": "markdown",
   "metadata": {},
   "source": [
    "The R<sup>2</sup> rounded to two digits is 0.06. This means that only 6% of the variation in amount of shares (shares_log) is explained by the lineair regression model. Since this number is quite low, we can conclude that the model is not very accurate."
   ]
  },
  {
   "cell_type": "markdown",
   "metadata": {},
   "source": [
    "### RMSE"
   ]
  },
  {
   "cell_type": "code",
   "execution_count": 17,
   "metadata": {},
   "outputs": [
    {
     "data": {
      "text/plain": [
       "0.392993928991207"
      ]
     },
     "execution_count": 17,
     "metadata": {},
     "output_type": "execute_result"
    }
   ],
   "source": [
    "np.sqrt(metrics.mean_squared_error(y_test, y_pred))"
   ]
  },
  {
   "cell_type": "markdown",
   "metadata": {},
   "source": [
    "The root mean squared error, or RMSE for short, is 0.39 (rounded to two digits). This means that the model is typically 0.39 off with predicting the shares (shares_log)."
   ]
  },
  {
   "cell_type": "markdown",
   "metadata": {},
   "source": [
    "### Plot of the Model"
   ]
  },
  {
   "cell_type": "code",
   "execution_count": 18,
   "metadata": {},
   "outputs": [
    {
     "data": {
      "image/png": "[encoded data removed]",
      "text/plain": [
       "<Figure size 432x288 with 1 Axes>"
      ]
     },
     "metadata": {
      "needs_background": "light"
     },
     "output_type": "display_data"
    }
   ],
   "source": [
    "# make a scatterplot with the lineair regression line of the model\n",
    "sns.scatterplot(y_test, y_pred)\n",
    "plt.xlabel('actual')\n",
    "plt.ylabel('predicted')\n",
    "plt.xlim([1, 6])\n",
    "plt.ylim([1, 6])\n",
    "plt.plot([1, 6], [1, 6], color='pink', lw = 3)\n",
    "plt.show()"
   ]
  },
  {
   "cell_type": "markdown",
   "metadata": {},
   "source": [
    "As you can see, the line does not fit the data very well."
   ]
  },
  {
   "cell_type": "markdown",
   "metadata": {},
   "source": [
    "### Investigating the Residuals"
   ]
  },
  {
   "cell_type": "code",
   "execution_count": 19,
   "metadata": {},
   "outputs": [],
   "source": [
    "# get the residual\n",
    "resid = y_pred - y_test"
   ]
  },
  {
   "cell_type": "code",
   "execution_count": 20,
   "metadata": {},
   "outputs": [
    {
     "data": {
      "image/png": "[encoded data removed]",
      "text/plain": [
       "<Figure size 432x288 with 1 Axes>"
      ]
     },
     "metadata": {
      "needs_background": "light"
     },
     "output_type": "display_data"
    }
   ],
   "source": [
    "# plot them\n",
    "sns.scatterplot(x = y_test, y = resid, data = pred_data)\n",
    "plt.xlabel('shares_log')\n",
    "plt.ylabel('residuals')\n",
    "plt.show()"
   ]
  },
  {
   "cell_type": "markdown",
   "metadata": {},
   "source": [
    "As you can see in the plot above, the model has to correct for the data quite a lot."
   ]
  }
 ],
 "metadata": {
  "kernelspec": {
   "display_name": "Python 3",
   "language": "python",
   "name": "python3"
  },
  "language_info": {
   "codemirror_mode": {
    "name": "ipython",
    "version": 3
   },
   "file_extension": ".py",
   "mimetype": "text/x-python",
   "name": "python",
   "nbconvert_exporter": "python",
   "pygments_lexer": "ipython3",
   "version": "3.7.3"
  }
 },
 "nbformat": 4,
 "nbformat_minor": 2
}
